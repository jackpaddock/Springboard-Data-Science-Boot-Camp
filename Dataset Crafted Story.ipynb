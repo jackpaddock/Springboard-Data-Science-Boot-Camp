{
 "cells": [
  {
   "cell_type": "markdown",
   "id": "381d799d",
   "metadata": {},
   "source": [
    "# College Student Mental Healthy Story #"
   ]
  },
  {
   "cell_type": "markdown",
   "id": "1c665d32",
   "metadata": {},
   "source": [
    "Mental health is a prominent ailment society has increasingly faced over time especially over the last decade or two with the growth of technology, social media and health care, among others. Many of us have battled it on a personal level or at least know of someone who has. I am one of those people who has battled with it espeically when I was in college. As one may know, mental health is not a one sized fits all type of ordeal. It can be specific to a certain person or group of people. With that said, trend analysis is a strong approach to take to understand mental health in the context of college students and from there, understand what actionable steps could be introduced to achieve better solutions. Let's dive in."
   ]
  },
  {
   "cell_type": "code",
   "execution_count": 1,
   "id": "4676a86d",
   "metadata": {},
   "outputs": [],
   "source": [
    "import pandas as pd\n",
    "import matplotlib.pyplot as plt\n",
    "from matplotlib_venn import venn3\n",
    "import seaborn as sns\n",
    "import warnings\n",
    "warnings.simplefilter(action='ignore', category=FutureWarning)"
   ]
  },
  {
   "cell_type": "code",
   "execution_count": 2,
   "id": "ff7134b9",
   "metadata": {},
   "outputs": [],
   "source": [
    "# Read file in + show head \n",
    "file = 'Student Mental Health.csv'\n",
    "data = pd.read_csv(file)\n",
    "df = pd.DataFrame(data)\n",
    "#df.head()"
   ]
  },
  {
   "cell_type": "code",
   "execution_count": 3,
   "id": "90495e0c",
   "metadata": {},
   "outputs": [],
   "source": [
    "#df.isna().sum()"
   ]
  },
  {
   "cell_type": "code",
   "execution_count": 4,
   "id": "e0696628",
   "metadata": {},
   "outputs": [],
   "source": [
    "#df.dtypes"
   ]
  },
  {
   "cell_type": "code",
   "execution_count": 5,
   "id": "85690048",
   "metadata": {},
   "outputs": [
    {
     "name": "stdout",
     "output_type": "stream",
     "text": [
      "There are 101 student responses in this dataset. The sample size is a fair amount so trends in the data should exist.\n"
     ]
    }
   ],
   "source": [
    "print('There are', len(df.index), 'student responses in this dataset. The sample size is a fair amount so trends in the data should exist.')"
   ]
  },
  {
   "cell_type": "code",
   "execution_count": 6,
   "id": "07b622f6",
   "metadata": {},
   "outputs": [],
   "source": [
    "# Tweak the \"Your current year of Study\" field so all values are numeric (1 = Freshman... 4 = Senior)\n",
    "# Tweak the other fields so all values are binary (1 = Yes, 0 = No)\n",
    "\n",
    "df['Your current year of Study'] = df['Your current year of Study'].str[-1:]\n",
    "\n",
    "def to_binary(d):\n",
    "    if d=='Yes':return 1\n",
    "    if d=='No':return 0\n",
    "    \n",
    "df['Marital status'] = df['Marital status'].apply(to_binary)\n",
    "df['Do you have Depression?'] = df['Do you have Depression?'].apply(to_binary)\n",
    "df['Do you have Anxiety?'] = df['Do you have Anxiety?'].apply(to_binary)\n",
    "df['Do you have Panic attack?'] = df['Do you have Panic attack?'].apply(to_binary)\n",
    "df['Did you seek any specialist for a treatment?'] = df['Did you seek any specialist for a treatment?'].apply(to_binary)"
   ]
  },
  {
   "cell_type": "markdown",
   "id": "a5156425",
   "metadata": {},
   "source": [
    "## Gender Focused Deep Dive ##"
   ]
  },
  {
   "cell_type": "code",
   "execution_count": 7,
   "id": "ed2b0111",
   "metadata": {},
   "outputs": [
    {
     "data": {
      "text/plain": [
       "Choose your gender\n",
       "Female    29\n",
       "Male       6\n",
       "Name: Do you have Depression?, dtype: int64"
      ]
     },
     "execution_count": 7,
     "metadata": {},
     "output_type": "execute_result"
    }
   ],
   "source": [
    "df.groupby('Choose your gender')['Do you have Depression?'].agg(sum)"
   ]
  },
  {
   "cell_type": "code",
   "execution_count": 8,
   "id": "d4ab1b33",
   "metadata": {},
   "outputs": [
    {
     "data": {
      "text/plain": [
       "Choose your gender\n",
       "Female    24\n",
       "Male      10\n",
       "Name: Do you have Anxiety?, dtype: int64"
      ]
     },
     "execution_count": 8,
     "metadata": {},
     "output_type": "execute_result"
    }
   ],
   "source": [
    "df.groupby('Choose your gender')['Do you have Anxiety?'].agg(sum)"
   ]
  },
  {
   "cell_type": "code",
   "execution_count": 9,
   "id": "1805ecc9",
   "metadata": {},
   "outputs": [
    {
     "data": {
      "text/plain": [
       "Choose your gender\n",
       "Female    25\n",
       "Male       8\n",
       "Name: Do you have Panic attack?, dtype: int64"
      ]
     },
     "execution_count": 9,
     "metadata": {},
     "output_type": "execute_result"
    }
   ],
   "source": [
    "df.groupby('Choose your gender')['Do you have Panic attack?'].agg(sum)"
   ]
  },
  {
   "cell_type": "code",
   "execution_count": 10,
   "id": "5b12d870",
   "metadata": {},
   "outputs": [
    {
     "data": {
      "text/plain": [
       "Choose your gender\n",
       "Female    5\n",
       "Male      1\n",
       "Name: Did you seek any specialist for a treatment?, dtype: int64"
      ]
     },
     "execution_count": 10,
     "metadata": {},
     "output_type": "execute_result"
    }
   ],
   "source": [
    "df.groupby('Choose your gender')['Did you seek any specialist for a treatment?'].agg(sum)"
   ]
  },
  {
   "cell_type": "markdown",
   "id": "eda0578d",
   "metadata": {},
   "source": [
    "Observations:\n",
    "1. Females reported being depressed almost 5 times more than males. 35/101 students reported being depressed.\n",
    "2. Females reported having anxiety almost 2.5 times more than males. 34/101 students reported having anxiety.\n",
    "3. Females reported having had a panic attack almost 3 times more than males. 33/101 students reported having had a panic attack.\n",
    "4. Females reported having sought a specialist for treatment almost 5 times more than males. Albeit, the sample size is small. 6/101 students reported seeking a specialist for treatment."
   ]
  },
  {
   "cell_type": "markdown",
   "id": "cde27ea8",
   "metadata": {},
   "source": [
    "Questions:\n",
    "\n",
    "1. Are male students underreporting? This is a vital question, but it is one that cannot be answered by solely leveraging this dataset. \n",
    "2. Roughly 1/3 of students reported some degree of having a mental health ailment but only 6 sought specialzied help... is there a stigma around seeking help? Again, this also cannot be answered by solely leveraging this dataset, but it is a vital question. \n",
    "3. Does mental health affect certain majors or ages? This would be interesting to know. \n",
    "4. Is there overlap between the conditions? \n",
    "\n",
    "Let's explore!"
   ]
  },
  {
   "cell_type": "code",
   "execution_count": 11,
   "id": "33a3e360",
   "metadata": {},
   "outputs": [
    {
     "data": {
      "image/png": "[encoded data removed]",
      "text/plain": [
       "<Figure size 640x480 with 1 Axes>"
      ]
     },
     "metadata": {},
     "output_type": "display_data"
    }
   ],
   "source": [
    "depressed = df[(df['Do you have Depression?']==1)]\n",
    "anxious = df[(df['Do you have Anxiety?']==1)]\n",
    "panic_attacks = df[(df['Do you have Panic attack?']==1)]\n",
    "\n",
    "venn3(subsets = [set(depressed.index), \n",
    "                 set(anxious.index), \n",
    "                 set(panic_attacks.index)], \n",
    "      set_labels = ('Depressed', 'Anxious', 'Panic Attacks'),\n",
    "      set_colors = ('orange', 'green', 'pink'),\n",
    "      alpha = 0.8)\n",
    "\n",
    "plt.title('Mental Health Conditions', fontsize=18)\n",
    "plt.show()"
   ]
  },
  {
   "cell_type": "markdown",
   "id": "46e35687",
   "metadata": {},
   "source": [
    "## Age/Year Focused Deep Dive ##"
   ]
  },
  {
   "cell_type": "code",
   "execution_count": 12,
   "id": "8fb0da74",
   "metadata": {},
   "outputs": [
    {
     "data": {
      "text/html": [
       "<div>\n",
       "<style scoped>\n",
       "    .dataframe tbody tr th:only-of-type {\n",
       "        vertical-align: middle;\n",
       "    }\n",
       "\n",
       "    .dataframe tbody tr th {\n",
       "        vertical-align: top;\n",
       "    }\n",
       "\n",
       "    .dataframe thead th {\n",
       "        text-align: right;\n",
       "    }\n",
       "</style>\n",
       "<table border=\"1\" class=\"dataframe\">\n",
       "  <thead>\n",
       "    <tr style=\"text-align: right;\">\n",
       "      <th></th>\n",
       "      <th>Do you have Depression?</th>\n",
       "      <th>Do you have Panic attack?</th>\n",
       "      <th>Do you have Panic attack?</th>\n",
       "    </tr>\n",
       "    <tr>\n",
       "      <th>Age</th>\n",
       "      <th></th>\n",
       "      <th></th>\n",
       "      <th></th>\n",
       "    </tr>\n",
       "  </thead>\n",
       "  <tbody>\n",
       "    <tr>\n",
       "      <th>18.0</th>\n",
       "      <td>11</td>\n",
       "      <td>9</td>\n",
       "      <td>9</td>\n",
       "    </tr>\n",
       "    <tr>\n",
       "      <th>19.0</th>\n",
       "      <td>9</td>\n",
       "      <td>9</td>\n",
       "      <td>9</td>\n",
       "    </tr>\n",
       "    <tr>\n",
       "      <th>20.0</th>\n",
       "      <td>3</td>\n",
       "      <td>1</td>\n",
       "      <td>1</td>\n",
       "    </tr>\n",
       "    <tr>\n",
       "      <th>21.0</th>\n",
       "      <td>0</td>\n",
       "      <td>0</td>\n",
       "      <td>0</td>\n",
       "    </tr>\n",
       "    <tr>\n",
       "      <th>22.0</th>\n",
       "      <td>1</td>\n",
       "      <td>0</td>\n",
       "      <td>0</td>\n",
       "    </tr>\n",
       "    <tr>\n",
       "      <th>23.0</th>\n",
       "      <td>5</td>\n",
       "      <td>5</td>\n",
       "      <td>5</td>\n",
       "    </tr>\n",
       "    <tr>\n",
       "      <th>24.0</th>\n",
       "      <td>6</td>\n",
       "      <td>9</td>\n",
       "      <td>9</td>\n",
       "    </tr>\n",
       "  </tbody>\n",
       "</table>\n",
       "</div>"
      ],
      "text/plain": [
       "      Do you have Depression?  Do you have Panic attack?  \\\n",
       "Age                                                        \n",
       "18.0                       11                          9   \n",
       "19.0                        9                          9   \n",
       "20.0                        3                          1   \n",
       "21.0                        0                          0   \n",
       "22.0                        1                          0   \n",
       "23.0                        5                          5   \n",
       "24.0                        6                          9   \n",
       "\n",
       "      Do you have Panic attack?  \n",
       "Age                              \n",
       "18.0                          9  \n",
       "19.0                          9  \n",
       "20.0                          1  \n",
       "21.0                          0  \n",
       "22.0                          0  \n",
       "23.0                          5  \n",
       "24.0                          9  "
      ]
     },
     "execution_count": 12,
     "metadata": {},
     "output_type": "execute_result"
    }
   ],
   "source": [
    "df.groupby('Age')[['Do you have Depression?', 'Do you have Panic attack?', 'Do you have Panic attack?']].agg(sum)"
   ]
  },
  {
   "cell_type": "code",
   "execution_count": 13,
   "id": "1d6ec1eb",
   "metadata": {},
   "outputs": [
    {
     "data": {
      "text/html": [
       "<div>\n",
       "<style scoped>\n",
       "    .dataframe tbody tr th:only-of-type {\n",
       "        vertical-align: middle;\n",
       "    }\n",
       "\n",
       "    .dataframe tbody tr th {\n",
       "        vertical-align: top;\n",
       "    }\n",
       "\n",
       "    .dataframe thead th {\n",
       "        text-align: right;\n",
       "    }\n",
       "</style>\n",
       "<table border=\"1\" class=\"dataframe\">\n",
       "  <thead>\n",
       "    <tr style=\"text-align: right;\">\n",
       "      <th></th>\n",
       "      <th>Do you have Depression?</th>\n",
       "      <th>Do you have Panic attack?</th>\n",
       "      <th>Do you have Panic attack?</th>\n",
       "    </tr>\n",
       "    <tr>\n",
       "      <th>Your current year of Study</th>\n",
       "      <th></th>\n",
       "      <th></th>\n",
       "      <th></th>\n",
       "    </tr>\n",
       "  </thead>\n",
       "  <tbody>\n",
       "    <tr>\n",
       "      <th>1</th>\n",
       "      <td>14</td>\n",
       "      <td>14</td>\n",
       "      <td>14</td>\n",
       "    </tr>\n",
       "    <tr>\n",
       "      <th>2</th>\n",
       "      <td>10</td>\n",
       "      <td>8</td>\n",
       "      <td>8</td>\n",
       "    </tr>\n",
       "    <tr>\n",
       "      <th>3</th>\n",
       "      <td>10</td>\n",
       "      <td>10</td>\n",
       "      <td>10</td>\n",
       "    </tr>\n",
       "    <tr>\n",
       "      <th>4</th>\n",
       "      <td>1</td>\n",
       "      <td>1</td>\n",
       "      <td>1</td>\n",
       "    </tr>\n",
       "  </tbody>\n",
       "</table>\n",
       "</div>"
      ],
      "text/plain": [
       "                            Do you have Depression?  \\\n",
       "Your current year of Study                            \n",
       "1                                                14   \n",
       "2                                                10   \n",
       "3                                                10   \n",
       "4                                                 1   \n",
       "\n",
       "                            Do you have Panic attack?  \\\n",
       "Your current year of Study                              \n",
       "1                                                  14   \n",
       "2                                                   8   \n",
       "3                                                  10   \n",
       "4                                                   1   \n",
       "\n",
       "                            Do you have Panic attack?  \n",
       "Your current year of Study                             \n",
       "1                                                  14  \n",
       "2                                                   8  \n",
       "3                                                  10  \n",
       "4                                                   1  "
      ]
     },
     "execution_count": 13,
     "metadata": {},
     "output_type": "execute_result"
    }
   ],
   "source": [
    "df.groupby('Your current year of Study')[['Do you have Depression?', 'Do you have Panic attack?', 'Do you have Panic attack?']].agg(sum)"
   ]
  },
  {
   "cell_type": "markdown",
   "id": "e87fc2bb",
   "metadata": {},
   "source": [
    "The tables are quite telling. Objectively, we observe that young and old students reported a mental health related ailment. Students in their fourth year stand out. The experiences they have in years 1-3 may result in a more stable, comfortable foundation.\n",
    "\n",
    "For new students, the adjustment from high school to college is a significant one.\n",
    "\n",
    "For old students, maybe it is tied to the stress of getting ready to graduate and find a job or maybe it is tied to the stress of graduate school?"
   ]
  },
  {
   "cell_type": "code",
   "execution_count": 14,
   "id": "106b41fa",
   "metadata": {},
   "outputs": [
    {
     "data": {
      "text/plain": [
       "<Axes: xlabel='What is your course?'>"
      ]
     },
     "execution_count": 14,
     "metadata": {},
     "output_type": "execute_result"
    },
    {
     "data": {
      "image/png": "[encoded data removed]",
      "text/plain": [
       "<Figure size 640x480 with 1 Axes>"
      ]
     },
     "metadata": {},
     "output_type": "display_data"
    }
   ],
   "source": [
    "df2 = df.groupby('What is your course?')[['Do you have Depression?', 'Do you have Panic attack?', 'Do you have Panic attack?']].agg(sum)\n",
    "df2 = df2.loc[(df2).any(1), (df2!=0).any(0)]\n",
    "df2.plot(kind='bar')"
   ]
  },
  {
   "cell_type": "markdown",
   "id": "0a7a0485",
   "metadata": {},
   "source": [
    "We observe that three majors make up much of the reported mental health cases - Engineering, BCS, and BIT. An interesting find! While these three majors tend to be robust and challenging, perhaps students also be not be receiving enough resources to succeed? Perhaps colleges may need to reconsider how they develop each major's curriculum?"
   ]
  },
  {
   "cell_type": "markdown",
   "id": "6a08bb8e",
   "metadata": {},
   "source": [
    "## Comprehension Beyond Dataset ##"
   ]
  },
  {
   "cell_type": "markdown",
   "id": "bb4cbca4",
   "metadata": {},
   "source": [
    "While this dataset is particular to the 101 sampled students, telling trends are observed from varying angles. Many of these trends can be projected to students beyond those sampled in this dataset. It starts with encouraging young people to be open to conversations regarding mental health. We must better understand why females are affected more than males and then we must provide better resources to these students to better aid them through their respective challenging times."
   ]
  },
  {
   "cell_type": "code",
   "execution_count": null,
   "id": "68ca15e2",
   "metadata": {},
   "outputs": [],
   "source": []
  }
 ],
 "metadata": {
  "kernelspec": {
   "display_name": "Python 3 (ipykernel)",
   "language": "python",
   "name": "python3"
  },
  "language_info": {
   "codemirror_mode": {
    "name": "ipython",
    "version": 3
   },
   "file_extension": ".py",
   "mimetype": "text/x-python",
   "name": "python",
   "nbconvert_exporter": "python",
   "pygments_lexer": "ipython3",
   "version": "3.11.4"
  }
 },
 "nbformat": 4,
 "nbformat_minor": 5
}
