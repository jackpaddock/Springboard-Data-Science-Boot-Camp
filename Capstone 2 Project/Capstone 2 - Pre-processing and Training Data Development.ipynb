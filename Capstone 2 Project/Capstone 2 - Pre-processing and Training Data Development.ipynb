{
 "cells": [
  {
   "cell_type": "code",
   "execution_count": 1,
   "id": "4e94b7a9",
   "metadata": {},
   "outputs": [],
   "source": [
    "import pandas as pd\n",
    "import numpy as np\n",
    "from sklearn.model_selection import train_test_split\n",
    "from sklearn.preprocessing import StandardScaler\n",
    "from sklearn import metrics\n",
    "import warnings\n",
    "warnings.simplefilter(action='ignore', category=FutureWarning)"
   ]
  },
  {
   "cell_type": "code",
   "execution_count": 2,
   "id": "1ed256d8",
   "metadata": {},
   "outputs": [],
   "source": [
    "file = 'Federal Firefighting Costs (Suppression Only).csv'\n",
    "data = pd.read_csv(file)\n",
    "df = pd.DataFrame(data)"
   ]
  },
  {
   "cell_type": "markdown",
   "id": "9cb39855",
   "metadata": {},
   "source": [
    "## Cleanup ##"
   ]
  },
  {
   "cell_type": "code",
   "execution_count": 3,
   "id": "10efcc75",
   "metadata": {},
   "outputs": [],
   "source": [
    "df['ForestService'] = df['ForestService'].str.strip('$')\n",
    "df['DOIAgencies'] = df['DOIAgencies'].str.strip('$')\n",
    "df['Total'] = df['Total'].str.strip('$')\n",
    "df['Currency'] = 'USD'\n",
    "df['Country'] = 'United States'\n",
    "df = df.rename(columns = {'Total':'Total Fire Suppression Cost', 'Acres':'Acres Burnt'})\n",
    "df['Fires'] = df['Fires'].str.replace(\",\", \"\", regex=True)\n",
    "df['Acres Burnt'] = df['Acres Burnt'].str.replace(\",\", \"\", regex=True)\n",
    "df['Total Fire Suppression Cost'] = df['Total Fire Suppression Cost'].str.replace(\",\", \"\", regex=True)\n",
    "df['Fires'] = df['Fires'].astype(int)\n",
    "df['Acres Burnt'] = df['Acres Burnt'].astype(int)\n",
    "df['Total Fire Suppression Cost'] = df['Total Fire Suppression Cost'].astype(int)"
   ]
  },
  {
   "cell_type": "markdown",
   "id": "2cfcee59",
   "metadata": {},
   "source": [
    "$ Convert $ $ Necessary $ $ Fields $ $ to $ $ Same $ $ Unit $ $ (Millions) $"
   ]
  },
  {
   "cell_type": "code",
   "execution_count": 4,
   "id": "d74535fd",
   "metadata": {},
   "outputs": [],
   "source": [
    "# Convert Fires which is in thousands to millions\n",
    "df['Fires'] = round((df['Fires'] / 1000000), 4)\n",
    "\n",
    "# Convert Total Fire Suppression Cost which contains millions and billions to millions\n",
    "df['Total Fire Suppression Cost'] = round((df['Total Fire Suppression Cost'] * 1000), 4)"
   ]
  },
  {
   "cell_type": "markdown",
   "id": "c645495f",
   "metadata": {},
   "source": [
    "## Create Additional Fields ##"
   ]
  },
  {
   "cell_type": "code",
   "execution_count": 5,
   "id": "d483e4e5",
   "metadata": {},
   "outputs": [
    {
     "data": {
      "text/html": [
       "<div>\n",
       "<style scoped>\n",
       "    .dataframe tbody tr th:only-of-type {\n",
       "        vertical-align: middle;\n",
       "    }\n",
       "\n",
       "    .dataframe tbody tr th {\n",
       "        vertical-align: top;\n",
       "    }\n",
       "\n",
       "    .dataframe thead th {\n",
       "        text-align: right;\n",
       "    }\n",
       "</style>\n",
       "<table border=\"1\" class=\"dataframe\">\n",
       "  <thead>\n",
       "    <tr style=\"text-align: right;\">\n",
       "      <th></th>\n",
       "      <th>Country</th>\n",
       "      <th>Year</th>\n",
       "      <th>Fires</th>\n",
       "      <th>Acres Burnt</th>\n",
       "      <th>Total Fire Suppression Cost</th>\n",
       "      <th>Acres Burnt per Fire</th>\n",
       "      <th>Suppression Cost per Fire</th>\n",
       "      <th>Year over Year Change in Fire Suppression Cost</th>\n",
       "      <th>Currency</th>\n",
       "    </tr>\n",
       "  </thead>\n",
       "  <tbody>\n",
       "    <tr>\n",
       "      <th>0</th>\n",
       "      <td>United States</td>\n",
       "      <td>1985</td>\n",
       "      <td>0.0826</td>\n",
       "      <td>2896147</td>\n",
       "      <td>239943000000</td>\n",
       "      <td>35062312.35</td>\n",
       "      <td>2.904879e+12</td>\n",
       "      <td>0</td>\n",
       "      <td>USD</td>\n",
       "    </tr>\n",
       "    <tr>\n",
       "      <th>1</th>\n",
       "      <td>United States</td>\n",
       "      <td>1986</td>\n",
       "      <td>0.0859</td>\n",
       "      <td>2719162</td>\n",
       "      <td>202778000000</td>\n",
       "      <td>31654970.90</td>\n",
       "      <td>2.360629e+12</td>\n",
       "      <td>-37165000000</td>\n",
       "      <td>USD</td>\n",
       "    </tr>\n",
       "    <tr>\n",
       "      <th>2</th>\n",
       "      <td>United States</td>\n",
       "      <td>1987</td>\n",
       "      <td>0.0713</td>\n",
       "      <td>2447296</td>\n",
       "      <td>335109000000</td>\n",
       "      <td>34323927.07</td>\n",
       "      <td>4.699986e+12</td>\n",
       "      <td>132331000000</td>\n",
       "      <td>USD</td>\n",
       "    </tr>\n",
       "    <tr>\n",
       "      <th>3</th>\n",
       "      <td>United States</td>\n",
       "      <td>1988</td>\n",
       "      <td>0.0728</td>\n",
       "      <td>5009290</td>\n",
       "      <td>578926000000</td>\n",
       "      <td>68808928.57</td>\n",
       "      <td>7.952280e+12</td>\n",
       "      <td>243817000000</td>\n",
       "      <td>USD</td>\n",
       "    </tr>\n",
       "    <tr>\n",
       "      <th>4</th>\n",
       "      <td>United States</td>\n",
       "      <td>1989</td>\n",
       "      <td>0.0489</td>\n",
       "      <td>1827310</td>\n",
       "      <td>499787000000</td>\n",
       "      <td>37368302.66</td>\n",
       "      <td>1.022059e+13</td>\n",
       "      <td>-79139000000</td>\n",
       "      <td>USD</td>\n",
       "    </tr>\n",
       "  </tbody>\n",
       "</table>\n",
       "</div>"
      ],
      "text/plain": [
       "         Country  Year   Fires  Acres Burnt  Total Fire Suppression Cost  \\\n",
       "0  United States  1985  0.0826      2896147                 239943000000   \n",
       "1  United States  1986  0.0859      2719162                 202778000000   \n",
       "2  United States  1987  0.0713      2447296                 335109000000   \n",
       "3  United States  1988  0.0728      5009290                 578926000000   \n",
       "4  United States  1989  0.0489      1827310                 499787000000   \n",
       "\n",
       "   Acres Burnt per Fire  Suppression Cost per Fire  \\\n",
       "0           35062312.35               2.904879e+12   \n",
       "1           31654970.90               2.360629e+12   \n",
       "2           34323927.07               4.699986e+12   \n",
       "3           68808928.57               7.952280e+12   \n",
       "4           37368302.66               1.022059e+13   \n",
       "\n",
       "   Year over Year Change in Fire Suppression Cost Currency  \n",
       "0                                               0      USD  \n",
       "1                                    -37165000000      USD  \n",
       "2                                    132331000000      USD  \n",
       "3                                    243817000000      USD  \n",
       "4                                    -79139000000      USD  "
      ]
     },
     "execution_count": 5,
     "metadata": {},
     "output_type": "execute_result"
    }
   ],
   "source": [
    "df['Acres Burnt per Fire'] = round(df['Acres Burnt']/df['Fires'], 2)\n",
    "df['Suppression Cost per Fire'] = df['Total Fire Suppression Cost']/df['Fires']\n",
    "df['Year over Year Change in Fire Suppression Cost'] = df['Total Fire Suppression Cost'].diff(1)\n",
    "df['Year over Year Change in Fire Suppression Cost'].fillna(value='0', inplace=True)\n",
    "df['Year over Year Change in Fire Suppression Cost'] = df['Year over Year Change in Fire Suppression Cost'].astype(int)\n",
    "df = df[['Country', 'Year', 'Fires', 'Acres Burnt', 'Total Fire Suppression Cost', 'Acres Burnt per Fire', 'Suppression Cost per Fire', 'Year over Year Change in Fire Suppression Cost', 'Currency']]\n",
    "df.head()"
   ]
  },
  {
   "cell_type": "markdown",
   "id": "fc29e32d",
   "metadata": {},
   "source": [
    "## Create Dummy Variable ##"
   ]
  },
  {
   "cell_type": "code",
   "execution_count": 6,
   "id": "21e3a0cc",
   "metadata": {},
   "outputs": [
    {
     "data": {
      "text/plain": [
       "(36, 9)"
      ]
     },
     "execution_count": 6,
     "metadata": {},
     "output_type": "execute_result"
    }
   ],
   "source": [
    "df.shape"
   ]
  },
  {
   "cell_type": "code",
   "execution_count": 7,
   "id": "a50d8381",
   "metadata": {},
   "outputs": [
    {
     "data": {
      "text/plain": [
       "Country                                            object\n",
       "Year                                                int64\n",
       "Fires                                             float64\n",
       "Acres Burnt                                         int64\n",
       "Total Fire Suppression Cost                         int64\n",
       "Acres Burnt per Fire                              float64\n",
       "Suppression Cost per Fire                         float64\n",
       "Year over Year Change in Fire Suppression Cost      int64\n",
       "Currency                                           object\n",
       "dtype: object"
      ]
     },
     "execution_count": 7,
     "metadata": {},
     "output_type": "execute_result"
    }
   ],
   "source": [
    "df.dtypes"
   ]
  },
  {
   "cell_type": "markdown",
   "id": "2e111b2b",
   "metadata": {},
   "source": [
    "Looking at the data types of the fields in the dataset, there is no categorical variable that can be leveraged to create a dummy variable. As a result, this step is skipped."
   ]
  },
  {
   "cell_type": "markdown",
   "id": "df210a22",
   "metadata": {},
   "source": [
    "## Standard Scaler ##"
   ]
  },
  {
   "cell_type": "code",
   "execution_count": 8,
   "id": "bc07cdd1",
   "metadata": {},
   "outputs": [],
   "source": [
    "# Drop 'Country' and 'Currency' features as they do not need to be standarized.\n",
    "df = df.drop(columns='Country', axis=1)\n",
    "df = df.drop(columns='Currency', axis=1)"
   ]
  },
  {
   "cell_type": "code",
   "execution_count": 9,
   "id": "6bbef976",
   "metadata": {},
   "outputs": [
    {
     "data": {
      "text/plain": [
       "Year                                                int64\n",
       "Fires                                             float64\n",
       "Acres Burnt                                         int64\n",
       "Total Fire Suppression Cost                         int64\n",
       "Acres Burnt per Fire                              float64\n",
       "Suppression Cost per Fire                         float64\n",
       "Year over Year Change in Fire Suppression Cost      int64\n",
       "dtype: object"
      ]
     },
     "execution_count": 9,
     "metadata": {},
     "output_type": "execute_result"
    }
   ],
   "source": [
    "df.dtypes"
   ]
  },
  {
   "cell_type": "code",
   "execution_count": 10,
   "id": "93e418d1",
   "metadata": {},
   "outputs": [
    {
     "data": {
      "text/html": [
       "<div>\n",
       "<style scoped>\n",
       "    .dataframe tbody tr th:only-of-type {\n",
       "        vertical-align: middle;\n",
       "    }\n",
       "\n",
       "    .dataframe tbody tr th {\n",
       "        vertical-align: top;\n",
       "    }\n",
       "\n",
       "    .dataframe thead th {\n",
       "        text-align: right;\n",
       "    }\n",
       "</style>\n",
       "<table border=\"1\" class=\"dataframe\">\n",
       "  <thead>\n",
       "    <tr style=\"text-align: right;\">\n",
       "      <th></th>\n",
       "      <th>Year</th>\n",
       "      <th>Fires</th>\n",
       "      <th>Acres Burnt</th>\n",
       "      <th>Total Fire Suppression Cost</th>\n",
       "      <th>Suppression Cost per Fire</th>\n",
       "      <th>Year over Year Change in Fire Suppression Cost</th>\n",
       "    </tr>\n",
       "  </thead>\n",
       "  <tbody>\n",
       "    <tr>\n",
       "      <th>0</th>\n",
       "      <td>1985</td>\n",
       "      <td>0.0826</td>\n",
       "      <td>2896147</td>\n",
       "      <td>239943000000</td>\n",
       "      <td>2.904879e+12</td>\n",
       "      <td>0</td>\n",
       "    </tr>\n",
       "    <tr>\n",
       "      <th>1</th>\n",
       "      <td>1986</td>\n",
       "      <td>0.0859</td>\n",
       "      <td>2719162</td>\n",
       "      <td>202778000000</td>\n",
       "      <td>2.360629e+12</td>\n",
       "      <td>-37165000000</td>\n",
       "    </tr>\n",
       "    <tr>\n",
       "      <th>2</th>\n",
       "      <td>1987</td>\n",
       "      <td>0.0713</td>\n",
       "      <td>2447296</td>\n",
       "      <td>335109000000</td>\n",
       "      <td>4.699986e+12</td>\n",
       "      <td>132331000000</td>\n",
       "    </tr>\n",
       "    <tr>\n",
       "      <th>3</th>\n",
       "      <td>1988</td>\n",
       "      <td>0.0728</td>\n",
       "      <td>5009290</td>\n",
       "      <td>578926000000</td>\n",
       "      <td>7.952280e+12</td>\n",
       "      <td>243817000000</td>\n",
       "    </tr>\n",
       "    <tr>\n",
       "      <th>4</th>\n",
       "      <td>1989</td>\n",
       "      <td>0.0489</td>\n",
       "      <td>1827310</td>\n",
       "      <td>499787000000</td>\n",
       "      <td>1.022059e+13</td>\n",
       "      <td>-79139000000</td>\n",
       "    </tr>\n",
       "  </tbody>\n",
       "</table>\n",
       "</div>"
      ],
      "text/plain": [
       "   Year   Fires  Acres Burnt  Total Fire Suppression Cost  \\\n",
       "0  1985  0.0826      2896147                 239943000000   \n",
       "1  1986  0.0859      2719162                 202778000000   \n",
       "2  1987  0.0713      2447296                 335109000000   \n",
       "3  1988  0.0728      5009290                 578926000000   \n",
       "4  1989  0.0489      1827310                 499787000000   \n",
       "\n",
       "   Suppression Cost per Fire  Year over Year Change in Fire Suppression Cost  \n",
       "0               2.904879e+12                                               0  \n",
       "1               2.360629e+12                                    -37165000000  \n",
       "2               4.699986e+12                                    132331000000  \n",
       "3               7.952280e+12                                    243817000000  \n",
       "4               1.022059e+13                                    -79139000000  "
      ]
     },
     "execution_count": 10,
     "metadata": {},
     "output_type": "execute_result"
    }
   ],
   "source": [
    "# X, the dependent feature, consists of 'Fires' and 'Acres Burnt.' It is set with y in mind.\n",
    "# Y, the independent variable, which is 'Total Fire Suppression Cost' \n",
    "# Split the data into features (X) and target (y)\n",
    "X = df.drop('Acres Burnt per Fire', axis = 1)\n",
    "y = df['Acres Burnt per Fire']\n",
    "\n",
    "X.head()"
   ]
  },
  {
   "cell_type": "markdown",
   "id": "72efd6e8",
   "metadata": {},
   "source": [
    "X, y is configured as is since I want to predict the annual fire suppression cost (y) based on the number of fires and the acres burnt each year."
   ]
  },
  {
   "cell_type": "code",
   "execution_count": 11,
   "id": "a6e111df",
   "metadata": {},
   "outputs": [
    {
     "data": {
      "text/html": [
       "<div>\n",
       "<style scoped>\n",
       "    .dataframe tbody tr th:only-of-type {\n",
       "        vertical-align: middle;\n",
       "    }\n",
       "\n",
       "    .dataframe tbody tr th {\n",
       "        vertical-align: top;\n",
       "    }\n",
       "\n",
       "    .dataframe thead th {\n",
       "        text-align: right;\n",
       "    }\n",
       "</style>\n",
       "<table border=\"1\" class=\"dataframe\">\n",
       "  <thead>\n",
       "    <tr style=\"text-align: right;\">\n",
       "      <th></th>\n",
       "      <th>Year</th>\n",
       "      <th>Fires</th>\n",
       "      <th>Acres Burnt</th>\n",
       "      <th>Total Fire Suppression Cost</th>\n",
       "      <th>Suppression Cost per Fire</th>\n",
       "      <th>Year over Year Change in Fire Suppression Cost</th>\n",
       "    </tr>\n",
       "  </thead>\n",
       "  <tbody>\n",
       "    <tr>\n",
       "      <th>8</th>\n",
       "      <td>1993</td>\n",
       "      <td>0.0588</td>\n",
       "      <td>1797574</td>\n",
       "      <td>240436000000</td>\n",
       "      <td>4.089048e+12</td>\n",
       "      <td>-137030000000</td>\n",
       "    </tr>\n",
       "    <tr>\n",
       "      <th>17</th>\n",
       "      <td>2002</td>\n",
       "      <td>0.0735</td>\n",
       "      <td>7184712</td>\n",
       "      <td>1674040000000</td>\n",
       "      <td>2.277605e+13</td>\n",
       "      <td>721344000000</td>\n",
       "    </tr>\n",
       "    <tr>\n",
       "      <th>9</th>\n",
       "      <td>1994</td>\n",
       "      <td>0.0791</td>\n",
       "      <td>4073579</td>\n",
       "      <td>918335000000</td>\n",
       "      <td>1.160980e+13</td>\n",
       "      <td>677899000000</td>\n",
       "    </tr>\n",
       "    <tr>\n",
       "      <th>34</th>\n",
       "      <td>2019</td>\n",
       "      <td>0.0505</td>\n",
       "      <td>4664364</td>\n",
       "      <td>1590000000000</td>\n",
       "      <td>3.148515e+13</td>\n",
       "      <td>-1553256000000</td>\n",
       "    </tr>\n",
       "    <tr>\n",
       "      <th>0</th>\n",
       "      <td>1985</td>\n",
       "      <td>0.0826</td>\n",
       "      <td>2896147</td>\n",
       "      <td>239943000000</td>\n",
       "      <td>2.904879e+12</td>\n",
       "      <td>0</td>\n",
       "    </tr>\n",
       "  </tbody>\n",
       "</table>\n",
       "</div>"
      ],
      "text/plain": [
       "    Year   Fires  Acres Burnt  Total Fire Suppression Cost  \\\n",
       "8   1993  0.0588      1797574                 240436000000   \n",
       "17  2002  0.0735      7184712                1674040000000   \n",
       "9   1994  0.0791      4073579                 918335000000   \n",
       "34  2019  0.0505      4664364                1590000000000   \n",
       "0   1985  0.0826      2896147                 239943000000   \n",
       "\n",
       "    Suppression Cost per Fire  Year over Year Change in Fire Suppression Cost  \n",
       "8                4.089048e+12                                   -137030000000  \n",
       "17               2.277605e+13                                    721344000000  \n",
       "9                1.160980e+13                                    677899000000  \n",
       "34               3.148515e+13                                  -1553256000000  \n",
       "0                2.904879e+12                                               0  "
      ]
     },
     "execution_count": 11,
     "metadata": {},
     "output_type": "execute_result"
    }
   ],
   "source": [
    "# Split the data into training and test sets. 20% testing, 80% training\n",
    "X_train, X_test, y_train, y_test = train_test_split(X, y, test_size=0.2, random_state=42)\n",
    "X_train.head()"
   ]
  },
  {
   "cell_type": "code",
   "execution_count": 12,
   "id": "e69be271",
   "metadata": {},
   "outputs": [
    {
     "data": {
      "text/html": [
       "<div>\n",
       "<style scoped>\n",
       "    .dataframe tbody tr th:only-of-type {\n",
       "        vertical-align: middle;\n",
       "    }\n",
       "\n",
       "    .dataframe tbody tr th {\n",
       "        vertical-align: top;\n",
       "    }\n",
       "\n",
       "    .dataframe thead th {\n",
       "        text-align: right;\n",
       "    }\n",
       "</style>\n",
       "<table border=\"1\" class=\"dataframe\">\n",
       "  <thead>\n",
       "    <tr style=\"text-align: right;\">\n",
       "      <th></th>\n",
       "      <th>Year</th>\n",
       "      <th>Fires</th>\n",
       "      <th>Acres Burnt</th>\n",
       "      <th>Total Fire Suppression Cost</th>\n",
       "      <th>Suppression Cost per Fire</th>\n",
       "      <th>Year over Year Change in Fire Suppression Cost</th>\n",
       "    </tr>\n",
       "  </thead>\n",
       "  <tbody>\n",
       "    <tr>\n",
       "      <th>35</th>\n",
       "      <td>2020</td>\n",
       "      <td>0.0590</td>\n",
       "      <td>10122336</td>\n",
       "      <td>2274000000000</td>\n",
       "      <td>3.854237e+13</td>\n",
       "      <td>684000000000</td>\n",
       "    </tr>\n",
       "    <tr>\n",
       "      <th>13</th>\n",
       "      <td>1998</td>\n",
       "      <td>0.0810</td>\n",
       "      <td>1329704</td>\n",
       "      <td>416704000000</td>\n",
       "      <td>5.144494e+12</td>\n",
       "      <td>132556000000</td>\n",
       "    </tr>\n",
       "    <tr>\n",
       "      <th>26</th>\n",
       "      <td>2011</td>\n",
       "      <td>0.0741</td>\n",
       "      <td>8711367</td>\n",
       "      <td>1374525000000</td>\n",
       "      <td>1.854960e+13</td>\n",
       "      <td>565026000000</td>\n",
       "    </tr>\n",
       "    <tr>\n",
       "      <th>30</th>\n",
       "      <td>2015</td>\n",
       "      <td>0.0682</td>\n",
       "      <td>10125149</td>\n",
       "      <td>2130543000000</td>\n",
       "      <td>3.123963e+13</td>\n",
       "      <td>608394000000</td>\n",
       "    </tr>\n",
       "    <tr>\n",
       "      <th>16</th>\n",
       "      <td>2001</td>\n",
       "      <td>0.0841</td>\n",
       "      <td>3570911</td>\n",
       "      <td>952696000000</td>\n",
       "      <td>1.132813e+13</td>\n",
       "      <td>-458106000000</td>\n",
       "    </tr>\n",
       "  </tbody>\n",
       "</table>\n",
       "</div>"
      ],
      "text/plain": [
       "    Year   Fires  Acres Burnt  Total Fire Suppression Cost  \\\n",
       "35  2020  0.0590     10122336                2274000000000   \n",
       "13  1998  0.0810      1329704                 416704000000   \n",
       "26  2011  0.0741      8711367                1374525000000   \n",
       "30  2015  0.0682     10125149                2130543000000   \n",
       "16  2001  0.0841      3570911                 952696000000   \n",
       "\n",
       "    Suppression Cost per Fire  Year over Year Change in Fire Suppression Cost  \n",
       "35               3.854237e+13                                    684000000000  \n",
       "13               5.144494e+12                                    132556000000  \n",
       "26               1.854960e+13                                    565026000000  \n",
       "30               3.123963e+13                                    608394000000  \n",
       "16               1.132813e+13                                   -458106000000  "
      ]
     },
     "execution_count": 12,
     "metadata": {},
     "output_type": "execute_result"
    }
   ],
   "source": [
    "X_test.head()"
   ]
  },
  {
   "cell_type": "code",
   "execution_count": 13,
   "id": "218f5125",
   "metadata": {},
   "outputs": [],
   "source": [
    "# Scale the features using StandardScaler\n",
    "scaler = StandardScaler()\n",
    "\n",
    "# Transform features such that its distribution will have a mean value of 0 and standard deviation of 1.\n",
    "X_train_scaled = scaler.fit_transform(X_train)\n",
    "X_test_scaled = scaler.transform(X_test)"
   ]
  },
  {
   "cell_type": "code",
   "execution_count": 14,
   "id": "c5365d19",
   "metadata": {},
   "outputs": [
    {
     "data": {
      "text/plain": [
       "1.4869058365515489e-15"
      ]
     },
     "execution_count": 14,
     "metadata": {},
     "output_type": "execute_result"
    }
   ],
   "source": [
    "np.mean(X_train_scaled)"
   ]
  },
  {
   "cell_type": "markdown",
   "id": "a870fb48",
   "metadata": {},
   "source": [
    "The mean of the standardized train feature is 0."
   ]
  },
  {
   "cell_type": "code",
   "execution_count": 15,
   "id": "26daf45d",
   "metadata": {},
   "outputs": [
    {
     "data": {
      "text/plain": [
       "1.0"
      ]
     },
     "execution_count": 15,
     "metadata": {},
     "output_type": "execute_result"
    }
   ],
   "source": [
    "np.std(X_train_scaled)"
   ]
  },
  {
   "cell_type": "markdown",
   "id": "22306db4",
   "metadata": {},
   "source": [
    "The standard deviation of the standardized train feature is 1."
   ]
  },
  {
   "cell_type": "code",
   "execution_count": 16,
   "id": "cf5def45",
   "metadata": {},
   "outputs": [
    {
     "name": "stdout",
     "output_type": "stream",
     "text": [
      "[0.67934223 0.14467811 0.54267301 0.43077874 0.29994554 0.45982328]\n",
      "[0.78928407 0.87390137 1.34271461 0.9411157  0.92271006 1.01147974]\n"
     ]
    }
   ],
   "source": [
    "# X_test mean and standard deviation\n",
    "print(X_test_scaled.mean(axis=0))\n",
    "print(X_test_scaled.std(axis=0))"
   ]
  },
  {
   "cell_type": "code",
   "execution_count": 17,
   "id": "eb91ebb5",
   "metadata": {},
   "outputs": [
    {
     "name": "stdout",
     "output_type": "stream",
     "text": [
      "Training Features Shape: (28, 6)\n",
      "Training Labels Shape: (28,)\n",
      "Testing Features Shape: (8, 6)\n",
      "Testing Labels Shape: (8,)\n"
     ]
    }
   ],
   "source": [
    "print('Training Features Shape:', X_train.shape)\n",
    "print('Training Labels Shape:', y_train.shape)\n",
    "print('Testing Features Shape:', X_test.shape)\n",
    "print('Testing Labels Shape:', y_test.shape)"
   ]
  }
 ],
 "metadata": {
  "kernelspec": {
   "display_name": "Python 3 (ipykernel)",
   "language": "python",
   "name": "python3"
  },
  "language_info": {
   "codemirror_mode": {
    "name": "ipython",
    "version": 3
   },
   "file_extension": ".py",
   "mimetype": "text/x-python",
   "name": "python",
   "nbconvert_exporter": "python",
   "pygments_lexer": "ipython3",
   "version": "3.11.4"
  }
 },
 "nbformat": 4,
 "nbformat_minor": 5
}
