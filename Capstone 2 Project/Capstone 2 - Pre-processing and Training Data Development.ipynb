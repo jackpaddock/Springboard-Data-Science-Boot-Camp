{
 "cells": [
  {
   "cell_type": "code",
   "execution_count": 1,
   "id": "2c57bc3b",
   "metadata": {},
   "outputs": [],
   "source": [
    "import pandas as pd\n",
    "import numpy as np\n",
    "from sklearn.model_selection import train_test_split\n",
    "from sklearn.preprocessing import StandardScaler\n",
    "import warnings\n",
    "warnings.simplefilter(action='ignore', category=FutureWarning)"
   ]
  },
  {
   "cell_type": "code",
   "execution_count": 2,
   "id": "ea66ad7c",
   "metadata": {},
   "outputs": [],
   "source": [
    "file = 'Federal Firefighting Costs (Suppression Only).csv'\n",
    "data = pd.read_csv(file)\n",
    "df = pd.DataFrame(data)"
   ]
  },
  {
   "cell_type": "markdown",
   "id": "3f4a7a60",
   "metadata": {},
   "source": [
    "## Cleanup ##"
   ]
  },
  {
   "cell_type": "code",
   "execution_count": 3,
   "id": "57b08d41",
   "metadata": {},
   "outputs": [],
   "source": [
    "df['ForestService'] = df['ForestService'].str.strip('$')\n",
    "df['DOIAgencies'] = df['DOIAgencies'].str.strip('$')\n",
    "df['Total'] = df['Total'].str.strip('$')\n",
    "df['Currency'] = 'USD'\n",
    "df['Country'] = 'United States'\n",
    "df = df.rename(columns = {'Total':'Total Fire Suppression Cost', 'Acres':'Acres Burnt'})\n",
    "df['Fires'] = df['Fires'].str.replace(\",\", \"\", regex=True)\n",
    "df['Acres Burnt'] = df['Acres Burnt'].str.replace(\",\", \"\", regex=True)\n",
    "df['Total Fire Suppression Cost'] = df['Total Fire Suppression Cost'].str.replace(\",\", \"\", regex=True)\n",
    "df['Fires'] = df['Fires'].astype(int)\n",
    "df['Acres Burnt'] = df['Acres Burnt'].astype(int)\n",
    "df['Total Fire Suppression Cost'] = df['Total Fire Suppression Cost'].astype(int)"
   ]
  },
  {
   "cell_type": "markdown",
   "id": "024ccb8b",
   "metadata": {},
   "source": [
    "## Create Additional Fields ##"
   ]
  },
  {
   "cell_type": "code",
   "execution_count": 4,
   "id": "9d9476a9",
   "metadata": {},
   "outputs": [
    {
     "data": {
      "text/html": [
       "<div>\n",
       "<style scoped>\n",
       "    .dataframe tbody tr th:only-of-type {\n",
       "        vertical-align: middle;\n",
       "    }\n",
       "\n",
       "    .dataframe tbody tr th {\n",
       "        vertical-align: top;\n",
       "    }\n",
       "\n",
       "    .dataframe thead th {\n",
       "        text-align: right;\n",
       "    }\n",
       "</style>\n",
       "<table border=\"1\" class=\"dataframe\">\n",
       "  <thead>\n",
       "    <tr style=\"text-align: right;\">\n",
       "      <th></th>\n",
       "      <th>Country</th>\n",
       "      <th>Year</th>\n",
       "      <th>Fires</th>\n",
       "      <th>Acres Burnt</th>\n",
       "      <th>Total Fire Suppression Cost</th>\n",
       "      <th>Acres Burnt per Fire</th>\n",
       "      <th>Suppression Cost per Fire</th>\n",
       "      <th>Year over Year Change in Fire Suppression Cost</th>\n",
       "      <th>Currency</th>\n",
       "    </tr>\n",
       "  </thead>\n",
       "  <tbody>\n",
       "    <tr>\n",
       "      <th>0</th>\n",
       "      <td>United States</td>\n",
       "      <td>1985</td>\n",
       "      <td>82591</td>\n",
       "      <td>2896147</td>\n",
       "      <td>239943000</td>\n",
       "      <td>35.07</td>\n",
       "      <td>2905.20</td>\n",
       "      <td>0</td>\n",
       "      <td>USD</td>\n",
       "    </tr>\n",
       "    <tr>\n",
       "      <th>1</th>\n",
       "      <td>United States</td>\n",
       "      <td>1986</td>\n",
       "      <td>85907</td>\n",
       "      <td>2719162</td>\n",
       "      <td>202778000</td>\n",
       "      <td>31.65</td>\n",
       "      <td>2360.44</td>\n",
       "      <td>-37165000</td>\n",
       "      <td>USD</td>\n",
       "    </tr>\n",
       "    <tr>\n",
       "      <th>2</th>\n",
       "      <td>United States</td>\n",
       "      <td>1987</td>\n",
       "      <td>71300</td>\n",
       "      <td>2447296</td>\n",
       "      <td>335109000</td>\n",
       "      <td>34.32</td>\n",
       "      <td>4699.99</td>\n",
       "      <td>132331000</td>\n",
       "      <td>USD</td>\n",
       "    </tr>\n",
       "    <tr>\n",
       "      <th>3</th>\n",
       "      <td>United States</td>\n",
       "      <td>1988</td>\n",
       "      <td>72750</td>\n",
       "      <td>5009290</td>\n",
       "      <td>578926000</td>\n",
       "      <td>68.86</td>\n",
       "      <td>7957.75</td>\n",
       "      <td>243817000</td>\n",
       "      <td>USD</td>\n",
       "    </tr>\n",
       "    <tr>\n",
       "      <th>4</th>\n",
       "      <td>United States</td>\n",
       "      <td>1989</td>\n",
       "      <td>48949</td>\n",
       "      <td>1827310</td>\n",
       "      <td>499787000</td>\n",
       "      <td>37.33</td>\n",
       "      <td>10210.36</td>\n",
       "      <td>-79139000</td>\n",
       "      <td>USD</td>\n",
       "    </tr>\n",
       "  </tbody>\n",
       "</table>\n",
       "</div>"
      ],
      "text/plain": [
       "         Country  Year  Fires  Acres Burnt  Total Fire Suppression Cost  \\\n",
       "0  United States  1985  82591      2896147                    239943000   \n",
       "1  United States  1986  85907      2719162                    202778000   \n",
       "2  United States  1987  71300      2447296                    335109000   \n",
       "3  United States  1988  72750      5009290                    578926000   \n",
       "4  United States  1989  48949      1827310                    499787000   \n",
       "\n",
       "   Acres Burnt per Fire  Suppression Cost per Fire  \\\n",
       "0                 35.07                    2905.20   \n",
       "1                 31.65                    2360.44   \n",
       "2                 34.32                    4699.99   \n",
       "3                 68.86                    7957.75   \n",
       "4                 37.33                   10210.36   \n",
       "\n",
       "   Year over Year Change in Fire Suppression Cost Currency  \n",
       "0                                               0      USD  \n",
       "1                                       -37165000      USD  \n",
       "2                                       132331000      USD  \n",
       "3                                       243817000      USD  \n",
       "4                                       -79139000      USD  "
      ]
     },
     "execution_count": 4,
     "metadata": {},
     "output_type": "execute_result"
    }
   ],
   "source": [
    "df['Acres Burnt per Fire'] = round(df['Acres Burnt']/df['Fires'], 2)\n",
    "df['Suppression Cost per Fire'] = round(df['Total Fire Suppression Cost']/df['Fires'], 2)\n",
    "df['Year over Year Change in Fire Suppression Cost'] = df['Total Fire Suppression Cost'].diff(1)\n",
    "df['Year over Year Change in Fire Suppression Cost'].fillna(value='0', inplace=True)\n",
    "df['Year over Year Change in Fire Suppression Cost'] = df['Year over Year Change in Fire Suppression Cost'].astype(int)\n",
    "df = df[['Country', 'Year', 'Fires', 'Acres Burnt', 'Total Fire Suppression Cost', 'Acres Burnt per Fire', 'Suppression Cost per Fire', 'Year over Year Change in Fire Suppression Cost', 'Currency']]\n",
    "df.head()"
   ]
  },
  {
   "cell_type": "markdown",
   "id": "005364cf",
   "metadata": {},
   "source": [
    "## Create Dummy Variable ##"
   ]
  },
  {
   "cell_type": "code",
   "execution_count": 5,
   "id": "faa5b0d0",
   "metadata": {},
   "outputs": [
    {
     "data": {
      "text/plain": [
       "(36, 9)"
      ]
     },
     "execution_count": 5,
     "metadata": {},
     "output_type": "execute_result"
    }
   ],
   "source": [
    "df.shape"
   ]
  },
  {
   "cell_type": "code",
   "execution_count": 6,
   "id": "3e2e9def",
   "metadata": {},
   "outputs": [
    {
     "data": {
      "text/plain": [
       "Country                                            object\n",
       "Year                                                int64\n",
       "Fires                                               int64\n",
       "Acres Burnt                                         int64\n",
       "Total Fire Suppression Cost                         int64\n",
       "Acres Burnt per Fire                              float64\n",
       "Suppression Cost per Fire                         float64\n",
       "Year over Year Change in Fire Suppression Cost      int64\n",
       "Currency                                           object\n",
       "dtype: object"
      ]
     },
     "execution_count": 6,
     "metadata": {},
     "output_type": "execute_result"
    }
   ],
   "source": [
    "df.dtypes"
   ]
  },
  {
   "cell_type": "markdown",
   "id": "6c659d5f",
   "metadata": {},
   "source": [
    "Looking at the data types of the fields in the dataset, there is no categorical variable that can be leveraged to create a dummy variable. As a result, this step is skipped."
   ]
  },
  {
   "cell_type": "markdown",
   "id": "e07d2426",
   "metadata": {},
   "source": [
    "## Standard Scaler ##"
   ]
  },
  {
   "cell_type": "code",
   "execution_count": 7,
   "id": "1ee445ea",
   "metadata": {},
   "outputs": [],
   "source": [
    "# Drop 'Country' and 'Currency' columns as they do not need to be standarized.\n",
    "df = df.drop(columns='Country', axis=1)\n",
    "df = df.drop(columns='Currency', axis=1)"
   ]
  },
  {
   "cell_type": "code",
   "execution_count": 8,
   "id": "71649d78",
   "metadata": {},
   "outputs": [
    {
     "data": {
      "text/plain": [
       "Year                                                int64\n",
       "Fires                                               int64\n",
       "Acres Burnt                                         int64\n",
       "Total Fire Suppression Cost                         int64\n",
       "Acres Burnt per Fire                              float64\n",
       "Suppression Cost per Fire                         float64\n",
       "Year over Year Change in Fire Suppression Cost      int64\n",
       "dtype: object"
      ]
     },
     "execution_count": 8,
     "metadata": {},
     "output_type": "execute_result"
    }
   ],
   "source": [
    "df.dtypes"
   ]
  },
  {
   "cell_type": "code",
   "execution_count": 9,
   "id": "03df6536",
   "metadata": {},
   "outputs": [
    {
     "data": {
      "text/html": [
       "<div>\n",
       "<style scoped>\n",
       "    .dataframe tbody tr th:only-of-type {\n",
       "        vertical-align: middle;\n",
       "    }\n",
       "\n",
       "    .dataframe tbody tr th {\n",
       "        vertical-align: top;\n",
       "    }\n",
       "\n",
       "    .dataframe thead th {\n",
       "        text-align: right;\n",
       "    }\n",
       "</style>\n",
       "<table border=\"1\" class=\"dataframe\">\n",
       "  <thead>\n",
       "    <tr style=\"text-align: right;\">\n",
       "      <th></th>\n",
       "      <th>Fires</th>\n",
       "      <th>Acres Burnt</th>\n",
       "    </tr>\n",
       "  </thead>\n",
       "  <tbody>\n",
       "    <tr>\n",
       "      <th>0</th>\n",
       "      <td>82591</td>\n",
       "      <td>2896147</td>\n",
       "    </tr>\n",
       "    <tr>\n",
       "      <th>1</th>\n",
       "      <td>85907</td>\n",
       "      <td>2719162</td>\n",
       "    </tr>\n",
       "    <tr>\n",
       "      <th>2</th>\n",
       "      <td>71300</td>\n",
       "      <td>2447296</td>\n",
       "    </tr>\n",
       "    <tr>\n",
       "      <th>3</th>\n",
       "      <td>72750</td>\n",
       "      <td>5009290</td>\n",
       "    </tr>\n",
       "    <tr>\n",
       "      <th>4</th>\n",
       "      <td>48949</td>\n",
       "      <td>1827310</td>\n",
       "    </tr>\n",
       "  </tbody>\n",
       "</table>\n",
       "</div>"
      ],
      "text/plain": [
       "   Fires  Acres Burnt\n",
       "0  82591      2896147\n",
       "1  85907      2719162\n",
       "2  71300      2447296\n",
       "3  72750      5009290\n",
       "4  48949      1827310"
      ]
     },
     "execution_count": 9,
     "metadata": {},
     "output_type": "execute_result"
    }
   ],
   "source": [
    "# X, the dependent feature, consists of 'Fires' and 'Acres Burnt.' It is set with y in mind.\n",
    "# Y, the independent variable, which is 'Total Fire Suppression Cost' \n",
    "# Split the data into features (X) and target (y)\n",
    "\n",
    "X = df.iloc[:, [1,2]]\n",
    "y = df.iloc[:, 3]\n",
    "\n",
    "X.head()"
   ]
  },
  {
   "cell_type": "markdown",
   "id": "c8d1ebb5",
   "metadata": {},
   "source": [
    "X, y is configured as is since I want to predict the annual fire suppression cost (y) based on the number of fires and the acres burnt each year."
   ]
  },
  {
   "cell_type": "code",
   "execution_count": 10,
   "id": "f1b91530",
   "metadata": {},
   "outputs": [
    {
     "data": {
      "text/html": [
       "<div>\n",
       "<style scoped>\n",
       "    .dataframe tbody tr th:only-of-type {\n",
       "        vertical-align: middle;\n",
       "    }\n",
       "\n",
       "    .dataframe tbody tr th {\n",
       "        vertical-align: top;\n",
       "    }\n",
       "\n",
       "    .dataframe thead th {\n",
       "        text-align: right;\n",
       "    }\n",
       "</style>\n",
       "<table border=\"1\" class=\"dataframe\">\n",
       "  <thead>\n",
       "    <tr style=\"text-align: right;\">\n",
       "      <th></th>\n",
       "      <th>Fires</th>\n",
       "      <th>Acres Burnt</th>\n",
       "    </tr>\n",
       "  </thead>\n",
       "  <tbody>\n",
       "    <tr>\n",
       "      <th>8</th>\n",
       "      <td>58810</td>\n",
       "      <td>1797574</td>\n",
       "    </tr>\n",
       "    <tr>\n",
       "      <th>17</th>\n",
       "      <td>73457</td>\n",
       "      <td>7184712</td>\n",
       "    </tr>\n",
       "    <tr>\n",
       "      <th>9</th>\n",
       "      <td>79107</td>\n",
       "      <td>4073579</td>\n",
       "    </tr>\n",
       "    <tr>\n",
       "      <th>34</th>\n",
       "      <td>50477</td>\n",
       "      <td>4664364</td>\n",
       "    </tr>\n",
       "    <tr>\n",
       "      <th>0</th>\n",
       "      <td>82591</td>\n",
       "      <td>2896147</td>\n",
       "    </tr>\n",
       "  </tbody>\n",
       "</table>\n",
       "</div>"
      ],
      "text/plain": [
       "    Fires  Acres Burnt\n",
       "8   58810      1797574\n",
       "17  73457      7184712\n",
       "9   79107      4073579\n",
       "34  50477      4664364\n",
       "0   82591      2896147"
      ]
     },
     "execution_count": 10,
     "metadata": {},
     "output_type": "execute_result"
    }
   ],
   "source": [
    "# Split the data into training and test sets\n",
    "X_train, X_test, y_train, y_test = train_test_split(X, y, test_size=0.2, random_state=42)\n",
    "X_train.head()"
   ]
  },
  {
   "cell_type": "code",
   "execution_count": 11,
   "id": "c7c62359",
   "metadata": {},
   "outputs": [
    {
     "data": {
      "text/html": [
       "<div>\n",
       "<style scoped>\n",
       "    .dataframe tbody tr th:only-of-type {\n",
       "        vertical-align: middle;\n",
       "    }\n",
       "\n",
       "    .dataframe tbody tr th {\n",
       "        vertical-align: top;\n",
       "    }\n",
       "\n",
       "    .dataframe thead th {\n",
       "        text-align: right;\n",
       "    }\n",
       "</style>\n",
       "<table border=\"1\" class=\"dataframe\">\n",
       "  <thead>\n",
       "    <tr style=\"text-align: right;\">\n",
       "      <th></th>\n",
       "      <th>Fires</th>\n",
       "      <th>Acres Burnt</th>\n",
       "    </tr>\n",
       "  </thead>\n",
       "  <tbody>\n",
       "    <tr>\n",
       "      <th>35</th>\n",
       "      <td>58950</td>\n",
       "      <td>10122336</td>\n",
       "    </tr>\n",
       "    <tr>\n",
       "      <th>13</th>\n",
       "      <td>81043</td>\n",
       "      <td>1329704</td>\n",
       "    </tr>\n",
       "    <tr>\n",
       "      <th>26</th>\n",
       "      <td>74126</td>\n",
       "      <td>8711367</td>\n",
       "    </tr>\n",
       "    <tr>\n",
       "      <th>30</th>\n",
       "      <td>68151</td>\n",
       "      <td>10125149</td>\n",
       "    </tr>\n",
       "    <tr>\n",
       "      <th>16</th>\n",
       "      <td>84079</td>\n",
       "      <td>3570911</td>\n",
       "    </tr>\n",
       "  </tbody>\n",
       "</table>\n",
       "</div>"
      ],
      "text/plain": [
       "    Fires  Acres Burnt\n",
       "35  58950     10122336\n",
       "13  81043      1329704\n",
       "26  74126      8711367\n",
       "30  68151     10125149\n",
       "16  84079      3570911"
      ]
     },
     "execution_count": 11,
     "metadata": {},
     "output_type": "execute_result"
    }
   ],
   "source": [
    "X_test.head()"
   ]
  },
  {
   "cell_type": "code",
   "execution_count": 12,
   "id": "05800455",
   "metadata": {},
   "outputs": [],
   "source": [
    "# Scale the features using StandardScaler\n",
    "scaler = StandardScaler()\n",
    "\n",
    "# Transform features such that its distribution will have a mean value of 0 and standard deviation of 1.\n",
    "X_train = scaler.fit_transform(X_train)\n",
    "X_test = scaler.transform(X_test)"
   ]
  },
  {
   "cell_type": "code",
   "execution_count": 13,
   "id": "cb792a19",
   "metadata": {},
   "outputs": [
    {
     "data": {
      "text/plain": [
       "7.137148015447435e-17"
      ]
     },
     "execution_count": 13,
     "metadata": {},
     "output_type": "execute_result"
    }
   ],
   "source": [
    "np.mean(X_train)"
   ]
  },
  {
   "cell_type": "markdown",
   "id": "b8664b95",
   "metadata": {},
   "source": [
    "The mean of the standardized train feature is 0."
   ]
  },
  {
   "cell_type": "code",
   "execution_count": 14,
   "id": "e3c76453",
   "metadata": {},
   "outputs": [
    {
     "data": {
      "text/plain": [
       "1.0"
      ]
     },
     "execution_count": 14,
     "metadata": {},
     "output_type": "execute_result"
    }
   ],
   "source": [
    "np.std(X_train)"
   ]
  },
  {
   "cell_type": "markdown",
   "id": "65f0afbb",
   "metadata": {},
   "source": [
    "The standard deviation of the standardized train feature is 1."
   ]
  },
  {
   "cell_type": "code",
   "execution_count": 15,
   "id": "4b096566",
   "metadata": {},
   "outputs": [
    {
     "name": "stdout",
     "output_type": "stream",
     "text": [
      "[0.14464062 0.54267301]\n",
      "[0.87462867 1.34271461]\n"
     ]
    }
   ],
   "source": [
    "# X_test mean and standard deviation\n",
    "print(X_test.mean(axis=0))\n",
    "print(X_test.std(axis=0))"
   ]
  },
  {
   "cell_type": "markdown",
   "id": "43f94dc7",
   "metadata": {},
   "source": [
    "The means of the standarized test variable is 0.1446 (for 'Fires') and 0.5427 (for 'Acres Burnt'). The standard deviations of the standarized test variable is 0.8746 (for 'Fires') and 1.3427 (for 'Acres Burnt')."
   ]
  }
 ],
 "metadata": {
  "kernelspec": {
   "display_name": "Python 3 (ipykernel)",
   "language": "python",
   "name": "python3"
  },
  "language_info": {
   "codemirror_mode": {
    "name": "ipython",
    "version": 3
   },
   "file_extension": ".py",
   "mimetype": "text/x-python",
   "name": "python",
   "nbconvert_exporter": "python",
   "pygments_lexer": "ipython3",
   "version": "3.11.4"
  }
 },
 "nbformat": 4,
 "nbformat_minor": 5
}
